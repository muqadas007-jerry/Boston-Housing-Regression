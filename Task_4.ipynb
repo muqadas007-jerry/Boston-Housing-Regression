{
  "nbformat": 4,
  "nbformat_minor": 0,
  "metadata": {
    "colab": {
      "provenance": [],
      "authorship_tag": "ABX9TyMcX1xaykZ1Weman2shlfab",
      "include_colab_link": true
    },
    "kernelspec": {
      "name": "python3",
      "display_name": "Python 3"
    },
    "language_info": {
      "name": "python"
    }
  },
  "cells": [
    {
      "cell_type": "markdown",
      "metadata": {
        "id": "view-in-github",
        "colab_type": "text"
      },
      "source": [
        "<a href=\"https://colab.research.google.com/github/muqadas007-jerry/Boston-Housing-Regression/blob/main/Task_4.ipynb\" target=\"_parent\"><img src=\"https://colab.research.google.com/assets/colab-badge.svg\" alt=\"Open In Colab\"/></a>"
      ]
    },
    {
      "cell_type": "code",
      "execution_count": null,
      "metadata": {
        "id": "1Xa4E7wcbMEy"
      },
      "outputs": [],
      "source": [
        "import numpy as np\n",
        "import pandas as pd\n",
        "from sklearn.model_selection import train_test_split\n",
        "from sklearn.metrics import mean_squared_error, r2_score\n",
        "import matplotlib.pyplot as plt"
      ]
    },
    {
      "cell_type": "code",
      "source": [
        " # Load dataset\n",
        "df = pd.read_csv(\"/content/HousingData.csv\")\n",
        "\n"
      ],
      "metadata": {
        "id": "6qsZoKWOg0ul"
      },
      "execution_count": null,
      "outputs": []
    },
    {
      "cell_type": "code",
      "source": [
        "# Handling missing values\n",
        "df.fillna(df.median(), inplace=True)"
      ],
      "metadata": {
        "id": "aBV8X5pChYSH"
      },
      "execution_count": null,
      "outputs": []
    },
    {
      "cell_type": "code",
      "source": [
        "\n",
        "# Normalize numerical features\n",
        "from sklearn.preprocessing import MinMaxScaler\n",
        "scaler = MinMaxScaler()\n",
        "df[df.columns] = scaler.fit_transform(df[df.columns])"
      ],
      "metadata": {
        "id": "ekJmN24Mhhre"
      },
      "execution_count": null,
      "outputs": []
    },
    {
      "cell_type": "code",
      "source": [
        "# Splitting data\n",
        "X = df.drop(columns=[\"MEDV\"])\n",
        "y = df[\"MEDV\"]\n",
        "X_train, X_test, y_train, y_test = train_test_split(X, y, test_size=0.2, random_state=42)\n"
      ],
      "metadata": {
        "id": "UP8S5YxShpGA"
      },
      "execution_count": null,
      "outputs": []
    },
    {
      "cell_type": "code",
      "source": [
        "# Linear Regression from scratch\n",
        "class LinearRegressionScratch:\n",
        "    def __init__(self, learning_rate=0.01, epochs=1000):\n",
        "        self.learning_rate = learning_rate\n",
        "        self.epochs = epochs\n",
        "        self.weights = None\n",
        "        self.bias = None\n",
        "\n",
        "    def fit(self, X, y):\n",
        "        n_samples, n_features = X.shape\n",
        "        self.weights = np.zeros(n_features)\n",
        "        self.bias = 0\n",
        "\n",
        "        for _ in range(self.epochs):\n",
        "            y_pred = np.dot(X, self.weights) + self.bias\n",
        "            dw = (1 / n_samples) * np.dot(X.T, (y_pred - y))\n",
        "            db = (1 / n_samples) * np.sum(y_pred - y)\n",
        "            self.weights -= self.learning_rate * dw\n",
        "            self.bias -= self.learning_rate * db\n",
        "    # The predict method should be at the same indentation level as the fit method\n",
        "    def predict(self, X):\n",
        "        return np.dot(X, self.weights) + self.bias\n"
      ],
      "metadata": {
        "id": "J7dVI-IMiBM-"
      },
      "execution_count": null,
      "outputs": []
    },
    {
      "cell_type": "code",
      "source": [
        "# Train Linear Regression model\n",
        "lr_model = LinearRegressionScratch(learning_rate=0.01, epochs=1000)\n",
        "lr_model.fit(X_train.values, y_train.values)\n",
        "y_pred_train = lr_model.predict(X_train.values)\n",
        "y_pred_test = lr_model.predict(X_test.values)"
      ],
      "metadata": {
        "id": "1N1ge5zNi5vV"
      },
      "execution_count": null,
      "outputs": []
    },
    {
      "cell_type": "code",
      "source": [
        "# Compute RMSE and R^2\n",
        "rmse_train = np.sqrt(mean_squared_error(y_train, y_pred_train))\n",
        "r2_train = r2_score(y_train, y_pred_train)\n",
        "rmse_test = np.sqrt(mean_squared_error(y_test, y_pred_test))\n",
        "r2_test = r2_score(y_test, y_pred_test)\n",
        "\n",
        "print(f\"Linear Regression - Train RMSE: {rmse_train}, R2: {r2_train}\")\n",
        "print(f\"Linear Regression - Test RMSE: {rmse_test}, R2: {r2_test}\")\n"
      ],
      "metadata": {
        "colab": {
          "base_uri": "https://localhost:8080/"
        },
        "id": "EoBJ7MbOi_oB",
        "outputId": "4b73d363-872e-49dc-9c3c-e21a6ff6c237"
      },
      "execution_count": null,
      "outputs": [
        {
          "output_type": "stream",
          "name": "stdout",
          "text": [
            "Linear Regression - Train RMSE: 0.14414093087337085, R2: 0.5157018230135411\n",
            "Linear Regression - Test RMSE: 0.1355894434403075, R2: 0.49234029433846993\n"
          ]
        }
      ]
    },
    {
      "cell_type": "code",
      "source": [
        "# Random Forest from scratch\n",
        "from collections import Counter\n",
        "\n",
        "class DecisionTree:\n",
        "    def __init__(self, max_depth=10, min_samples_split=2):\n",
        "        self.max_depth = max_depth\n",
        "        self.min_samples_split = min_samples_split\n",
        "        self.tree = None\n",
        "\n",
        "    def fit(self, X, y):\n",
        "        self.tree = self._grow_tree(X, y, depth=0)\n",
        "\n",
        "    def _grow_tree(self, X, y, depth):\n",
        "        if depth >= self.max_depth or len(y) < self.min_samples_split:\n",
        "            return Counter(y).most_common(1)[0][0]\n",
        "\n",
        "        best_feat = np.random.randint(X.shape[1])\n",
        "        threshold = np.median(X[:, best_feat])\n",
        "        left_idx = X[:, best_feat] < threshold\n",
        "        right_idx = ~left_idx\n",
        "\n",
        "        return {\n",
        "            'feature': best_feat,\n",
        "            'threshold': threshold,\n",
        "            'left': self._grow_tree(X[left_idx], y[left_idx], depth + 1),\n",
        "            'right': self._grow_tree(X[right_idx], y[right_idx], depth + 1)\n",
        "        }\n",
        "\n",
        "    def predict_one(self, x, tree):\n",
        "        if not isinstance(tree, dict):\n",
        "            return tree\n",
        "        if x[tree['feature']] < tree['threshold']:\n",
        "            return self.predict_one(x, tree['left'])\n",
        "        return self.predict_one(x, tree['right'])\n",
        "\n",
        "    def predict(self, X):\n",
        "        return np.array([self.predict_one(x, self.tree) for x in X])\n"
      ],
      "metadata": {
        "id": "KAGJeDsqjGiz"
      },
      "execution_count": null,
      "outputs": []
    },
    {
      "cell_type": "code",
      "source": [
        "from collections import Counter\n",
        "\n",
        "class DecisionTree:\n",
        "    def __init__(self, max_depth=10, min_samples_split=2):\n",
        "        self.max_depth = max_depth\n",
        "        self.min_samples_split = min_samples_split\n",
        "        self.tree = None\n",
        "\n",
        "    def fit(self, X, y):\n",
        "        self.tree = self._grow_tree(X, y, depth=0)\n",
        "\n",
        "    def _grow_tree(self, X, y, depth):\n",
        "        if depth >= self.max_depth or len(y) < self.min_samples_split or len(np.unique(y)) == 1:\n",
        "            # Return the most common value if y is not empty, otherwise return None\n",
        "            return Counter(y).most_common(1)[0][0] if y else None\n",
        "\n",
        "        best_feat = np.random.randint(X.shape[1])\n",
        "        threshold = np.median(X[:, best_feat])\n",
        "        left_idx = X[:, best_feat] < threshold\n",
        "        right_idx = ~left_idx\n",
        "\n",
        "        # Check if left or right split results in empty y\n",
        "        left_tree = self._grow_tree(X[left_idx], y[left_idx], depth + 1) if len(y[left_idx]) > 0 else None\n",
        "        right_tree = self._grow_tree(X[right_idx], y[right_idx], depth + 1) if len(y[right_idx]) > 0 else None\n",
        "\n",
        "        # Return None if both left and right trees are None\n",
        "        if left_tree is None and right_tree is None:\n",
        "            return None\n",
        "\n",
        "        return {\n",
        "            'feature': best_feat,\n",
        "            'threshold': threshold,\n",
        "            'left': left_tree,\n",
        "            'right': right_tree\n",
        "        }\n",
        "\n",
        "    def predict_one(self, x, tree):\n",
        "        if not isinstance(tree, dict):\n",
        "            return tree\n",
        "        if x[tree['feature']] < tree['threshold']:\n",
        "            return self.predict_one(x, tree['left'])\n",
        "        return self.predict_one(x, tree['right'])\n",
        "\n",
        "    def predict(self, X):\n",
        "        return np.array([self.predict_one(x, self.tree) for x in X])"
      ],
      "metadata": {
        "id": "yQjyx97qjJji"
      },
      "execution_count": null,
      "outputs": []
    },
    {
      "cell_type": "code",
      "source": [
        "# Feature Importance Visualization\n",
        "feature_importance = np.random.rand(X_train.shape[1])\n",
        "plt.figure(figsize=(10, 5))\n",
        "plt.bar(X.columns, feature_importance)\n",
        "plt.xticks(rotation=90)\n",
        "plt.xlabel(\"Features\")\n",
        "plt.ylabel(\"Importance\")\n",
        "plt.title(\"Feature Importance (Random Values for Demonstration)\")\n",
        "plt.show()"
      ],
      "metadata": {
        "colab": {
          "base_uri": "https://localhost:8080/",
          "height": 531
        },
        "id": "W4iz0eLDjmdX",
        "outputId": "3064a23c-b879-4ac9-b778-bd56fc58e222"
      },
      "execution_count": null,
      "outputs": [
        {
          "output_type": "display_data",
          "data": {
            "text/plain": [
              "<Figure size 1000x500 with 1 Axes>"
            ],
            "image/png": "[encoded data removed]"
          },
          "metadata": {}
        }
      ]
    }
  ]
}